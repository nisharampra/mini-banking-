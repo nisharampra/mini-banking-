{
 "cells": [
  {
   "cell_type": "code",
   "execution_count": 2,
   "id": "86d7871b",
   "metadata": {},
   "outputs": [],
   "source": [
    "class Account():\n",
    "    def __init__(self, owner, balance=0):\n",
    "        self.owner = owner\n",
    "        self.balance = balance\n",
    "\n",
    "    def deposit(self, dep_amt):\n",
    "        self.balance = self.balance + dep_amt\n",
    "        print(f\"Added {dep_amt} to the balance\")\n",
    "\n",
    "    def withdrawal(self, wd_amt):\n",
    "        if self.balance >= wd_amt:\n",
    "            print(\"Withdrawal accepted\")\n",
    "        else:\n",
    "            print(\"Sorry, you're broke :(\")\n",
    "\n",
    "    def __str__(self):\n",
    "        return f\"Owner: {self.owner}\\nBalance: {self.balance}\"\n"
   ]
  },
  {
   "cell_type": "code",
   "execution_count": 3,
   "id": "7630d99c",
   "metadata": {},
   "outputs": [],
   "source": [
    "a=Account(\"sam\",500)"
   ]
  },
  {
   "cell_type": "code",
   "execution_count": 4,
   "id": "c7e7cfde",
   "metadata": {},
   "outputs": [
    {
     "data": {
      "text/plain": [
       "'sam'"
      ]
     },
     "execution_count": 4,
     "metadata": {},
     "output_type": "execute_result"
    }
   ],
   "source": [
    "a.owner"
   ]
  },
  {
   "cell_type": "code",
   "execution_count": 5,
   "id": "fb2e0222",
   "metadata": {},
   "outputs": [
    {
     "data": {
      "text/plain": [
       "500"
      ]
     },
     "execution_count": 5,
     "metadata": {},
     "output_type": "execute_result"
    }
   ],
   "source": [
    "a.balance"
   ]
  },
  {
   "cell_type": "code",
   "execution_count": 6,
   "id": "92078bd0",
   "metadata": {},
   "outputs": [
    {
     "name": "stdout",
     "output_type": "stream",
     "text": [
      "Owner: sam\n",
      "Balance: 500\n"
     ]
    }
   ],
   "source": [
    "print(a)"
   ]
  },
  {
   "cell_type": "code",
   "execution_count": 7,
   "id": "930755b2",
   "metadata": {},
   "outputs": [
    {
     "name": "stdout",
     "output_type": "stream",
     "text": [
      "Withdrawal accepted\n"
     ]
    }
   ],
   "source": [
    "a.withdrawal(1)"
   ]
  },
  {
   "cell_type": "code",
   "execution_count": 8,
   "id": "9333c11b",
   "metadata": {},
   "outputs": [
    {
     "name": "stdout",
     "output_type": "stream",
     "text": [
      "Sorry, you're broke :(\n"
     ]
    }
   ],
   "source": [
    "a.withdrawal(900)"
   ]
  },
  {
   "cell_type": "code",
   "execution_count": null,
   "id": "1a7c290d",
   "metadata": {},
   "outputs": [],
   "source": []
  }
 ],
 "metadata": {
  "kernelspec": {
   "display_name": "Python 3 (ipykernel)",
   "language": "python",
   "name": "python3"
  },
  "language_info": {
   "codemirror_mode": {
    "name": "ipython",
    "version": 3
   },
   "file_extension": ".py",
   "mimetype": "text/x-python",
   "name": "python",
   "nbconvert_exporter": "python",
   "pygments_lexer": "ipython3",
   "version": "3.11.5"
  }
 },
 "nbformat": 4,
 "nbformat_minor": 5
}
